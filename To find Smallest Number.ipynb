{
 "cells": [
  {
   "cell_type": "code",
   "execution_count": 4,
   "id": "8df11320",
   "metadata": {},
   "outputs": [
    {
     "name": "stdout",
     "output_type": "stream",
     "text": [
      "The smallest number is : 4\n"
     ]
    }
   ],
   "source": [
    "def smallest_number(list1):\n",
    "    smallest=list1[0]\n",
    "    for i in list1:\n",
    "        if i < smallest:\n",
    "            smallest=i\n",
    "    return smallest\n",
    "\n",
    "list1=[5,7,9,14,10,20,4]\n",
    "smallest=smallest_number(list1)\n",
    "print(\"The smallest number is :\",smallest)\n",
    "\n"
   ]
  },
  {
   "cell_type": "code",
   "execution_count": null,
   "id": "5d114f0d",
   "metadata": {},
   "outputs": [],
   "source": []
  }
 ],
 "metadata": {
  "kernelspec": {
   "display_name": "Python 3 (ipykernel)",
   "language": "python",
   "name": "python3"
  },
  "language_info": {
   "codemirror_mode": {
    "name": "ipython",
    "version": 3
   },
   "file_extension": ".py",
   "mimetype": "text/x-python",
   "name": "python",
   "nbconvert_exporter": "python",
   "pygments_lexer": "ipython3",
   "version": "3.9.12"
  }
 },
 "nbformat": 4,
 "nbformat_minor": 5
}
